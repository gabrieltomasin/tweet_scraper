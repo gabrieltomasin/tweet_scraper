{
 "cells": [
  {
   "cell_type": "markdown",
   "metadata": {},
   "source": [
    "### I hope this algorithm can help you! If you need to contact me for any reason, do not hesitate to follow and write me about it through my social media or e-mail =) \n",
    "\n",
    "## LET'S SHARE AND OPEN-SOURCE IT!"
   ]
  },
  {
   "cell_type": "markdown",
   "metadata": {},
   "source": [
    "#### GitHub: https://github.com/neural-insights\n",
    "\n",
    "#### LinkedIn: https://www.linkedin.com/in/lucas-barone-peres/\n",
    "\n",
    "#### Medium: https://medium.com/@lucas.barone.peres\n",
    "\n",
    "#### e-mail: lucas.barone.peres@gmail.com"
   ]
  },
  {
   "cell_type": "markdown",
   "metadata": {
    "id": "QTGbyE4tPAAQ"
   },
   "source": [
    "# **Collecting tweets**"
   ]
  },
  {
   "cell_type": "markdown",
   "metadata": {},
   "source": [
    "### Installing SNScrape library"
   ]
  },
  {
   "cell_type": "code",
   "execution_count": null,
   "metadata": {
    "colab": {
     "base_uri": "https://localhost:8080/"
    },
    "executionInfo": {
     "elapsed": 17820,
     "status": "ok",
     "timestamp": 1674915717617,
     "user": {
      "displayName": "Aline Salviano",
      "userId": "17132370323163133714"
     },
     "user_tz": 180
    },
    "id": "HK8Qpb9JPAAY",
    "outputId": "517ef56d-db50-4955-a2a6-908ca2fe4083"
   },
   "outputs": [],
   "source": [
    "#Developer version of SNScrape (it runs only on Jupyter Notebook)\n",
    "\n",
    "!pip install git+https://github.com/JustAnotherArchivist/snscrape.git"
   ]
  },
  {
   "cell_type": "markdown",
   "metadata": {
    "id": "ZI5LYi-5QsO6"
   },
   "source": [
    "### SNScrape guides:\n",
    "\n",
    "- SNScrape's GitHub: https://github.com/JustAnotherArchivist/snscrape\n",
    "\n",
    "- Medium's article and tutorial: https://medium.com/dataseries/how-to-scrape-millions-of-tweets-using-snscrape-195ee3594721"
   ]
  },
  {
   "cell_type": "markdown",
   "metadata": {
    "id": "-h08JzlXPAAh"
   },
   "source": [
    "### Importing fundamental libraries\n",
    "\n",
    "If you don't have some of these libraries installed, just uncomment the commands below to install or update them."
   ]
  },
  {
   "cell_type": "code",
   "execution_count": 1,
   "metadata": {},
   "outputs": [],
   "source": [
    "#!pip install pandas\n",
    "#!pip install DateTime\n",
    "#!pip install tqdm"
   ]
  },
  {
   "cell_type": "code",
   "execution_count": 2,
   "metadata": {
    "id": "oUkl-hqlPAAj"
   },
   "outputs": [],
   "source": [
    "import snscrape.modules.twitter as sntwitter\n",
    "import pandas as pd\n",
    "from datetime import datetime, timedelta\n",
    "from time import sleep\n",
    "from tqdm.auto import tqdm\n",
    "\n",
    "#Ignore warnings\n",
    "import warnings\n",
    "warnings.filterwarnings(\"ignore\")"
   ]
  },
  {
   "cell_type": "markdown",
   "metadata": {},
   "source": [
    "### Building a function to verify if the target year is a Leap Year or Regular Year\n",
    "\n",
    "It is a useful function to permit you to scrape in all twenty-nine days of February in case of Leap Year!"
   ]
  },
  {
   "cell_type": "code",
   "execution_count": 3,
   "metadata": {},
   "outputs": [],
   "source": [
    "def is_leap_year(year):\n",
    "\n",
    "    if (year % 400 == 0) and (year % 100 == 0):\n",
    "        is_leap_year = 1\n",
    "        return True\n",
    "    \n",
    "    elif (year % 4 ==0) and (year % 100 != 0):\n",
    "        is_leap_year = 1\n",
    "        return True\n",
    "\n",
    "    else:\n",
    "        is_leap_year = 0\n",
    "        return False"
   ]
  },
  {
   "cell_type": "markdown",
   "metadata": {},
   "source": [
    "### Declaring some accessory functions to check if input conditions are plausible"
   ]
  },
  {
   "cell_type": "code",
   "execution_count": 4,
   "metadata": {},
   "outputs": [],
   "source": [
    "def check_year():\n",
    "    year = int(input(\"Enter the target year:\"))\n",
    "    if type(year) != int:\n",
    "        raise Exception(f'{year} is not a integer!')\n",
    "    \n",
    "    return year\n",
    "        \n",
    "def check_target_month(year):\n",
    "    target_month = int(input(\"Enter the target month:\"))\n",
    "    if target_month < 1 or target_month > 12 or type(target_month) != int:\n",
    "        raise Exception(f'{target_month} is not a integer or it is out of range!')\n",
    "        \n",
    "    return target_month\n",
    "\n",
    "def check_initial_day(year, target_month):\n",
    "    initial_day = int(input(\"Enter the first day you want to look for:\"))\n",
    "    if target_month == 2 and is_leap_year(year) == 0 and initial_day == 29: \n",
    "        raise Exception(f'{year} is not a leap year! The initial day for February can not exceed 28!')\n",
    "        \n",
    "    elif target_month == 2 and is_leap_year(year) == 0 and initial_day != 29:\n",
    "        if initial_day > 29 or initial_day < 0 or type(initial_day) != int:\n",
    "            raise Exception(f'{initial_day} is not a integer or it is out of range!') \n",
    "\n",
    "    elif target_month == 2 and is_leap_year(year) == 1:\n",
    "        if initial_day > 29 or initial_day < 0 or type(initial_day) != int:\n",
    "            raise Exception(f'{initial_day} is not a integer or it is out of range!') \n",
    "\n",
    "    elif target_month == 1 or target_month == 3 or target_month == 5 or target_month == 7 or target_month == 8 or target_month == 10 or target_month == 12:\n",
    "        if initial_day > 31 or initial_day < 0 or type(initial_day) != int:\n",
    "            raise Exception(f'{initial_day} is not a integer or it is out of range!')  \n",
    "\n",
    "    elif target_month == 4 or target_month == 6 or target_month == 9 or target_month == 11:\n",
    "        if initial_day > 30 or initial_day < 0 or type(initial_day) != int:\n",
    "            raise Exception(f'{initial_day} is not a integer or it is out of range!')\n",
    "    \n",
    "    return initial_day\n",
    "            \n",
    "def check_final_day(year, target_month):\n",
    "    final_day = int(input(\"Enter the last day you want to look for:\"))\n",
    "    if target_month == 2 and is_leap_year(year) == 0 and final_day == 29: \n",
    "        raise Exception(f'{year} is not a leap year! The final day for February can not exceed 28!')\n",
    "\n",
    "    elif target_month == 2 and is_leap_year(year) == 0 and final_day != 29:\n",
    "        if final_day > 29 or final_day < 0 or type(final_day) != int:\n",
    "            raise Exception(f'{final_day} is not a integer or it is out of range!') \n",
    "\n",
    "    elif target_month == 2 and is_leap_year(year) == 1:\n",
    "        if final_day > 29 or final_day < 0 or type(final_day) != int:\n",
    "            raise Exception(f'{final_day} is not a integer or it is out of range!') \n",
    "\n",
    "    elif target_month == 1 or target_month == 3 or target_month == 5 or target_month == 7 or target_month == 8 or target_month == 10 or target_month == 12:\n",
    "        if final_day > 31 or final_day < 0 or type(final_day) != int:\n",
    "            raise Exception(f'{final_day} is not a integer or it is out of range!')   \n",
    "\n",
    "    elif target_month == 4 or target_month == 6 or target_month == 9 or target_month == 11:\n",
    "        if final_day > 30 or final_day < 0 or type(final_day) != int:\n",
    "            raise Exception(f'{final_day} is not a integer or it is out of range!')\n",
    "            \n",
    "    return final_day\n"
   ]
  },
  {
   "cell_type": "markdown",
   "metadata": {},
   "source": [
    "### Solving the \"last day problem\"\n",
    "\n",
    "When we declare the final_day.isoformat() to run in a loop, it stops when reaches the last day and doesn't collect its data. This problem would be easily solved by adding +1 to the final_day value. However, the last day of the scrape matches with the last day of the month, we have a problem. The following function was created to solve this issue. "
   ]
  },
  {
   "cell_type": "code",
   "execution_count": 11,
   "metadata": {},
   "outputs": [],
   "source": [
    "def final_date_solved(year, target_month, initial_day, final_day):\n",
    "    \n",
    "    if target_month == 2 and is_leap_year(year) != False:\n",
    "        if final_day == 29:\n",
    "            final_date = datetime(year, target_month + 1, initial_day, 23, 59, 59).isoformat()\n",
    "        else:\n",
    "            final_date = datetime(year, target_month, final_day + 1, 23, 59, 59).isoformat()\n",
    "            \n",
    "    elif target_month == 2 and is_leap_year(year) == False:\n",
    "        if final_day == 28:\n",
    "            final_date = datetime(year, target_month + 1, initial_day, 23, 59, 59).isoformat()\n",
    "        else:\n",
    "            final_date = datetime(year, target_month, final_day + 1, 23, 59, 59).isoformat()\n",
    "            \n",
    "    elif target_month == 1 or target_month == 3 or target_month == 5 or target_month == 7 or target_month == 8 or target_month == 10 or target_month == 12:\n",
    "        if final_day == 31:\n",
    "            final_date = datetime(year, target_month + 1, initial_day, 23, 59, 59).isoformat()\n",
    "        else:\n",
    "            final_date = datetime(year, target_month, final_day + 1, 23, 59, 59).isoformat()\n",
    "            \n",
    "    elif target_month == 4 or target_month == 6 or target_month == 9 or target_month == 11:\n",
    "        if final_day == 30:\n",
    "            final_date = datetime(year, target_month + 1, initial_day, 23, 59, 59).isoformat()\n",
    "        else:\n",
    "            final_date = datetime(year, target_month, final_day + 1, 23, 59, 59).isoformat()\n",
    "    return final_date"
   ]
  },
  {
   "cell_type": "markdown",
   "metadata": {},
   "source": [
    "### Declaring the main function which will collect all inputs from user and analyze their viability"
   ]
  },
  {
   "cell_type": "code",
   "execution_count": 12,
   "metadata": {},
   "outputs": [],
   "source": [
    "def search_your_tweets():\n",
    "    name = input(\"Enter the name of any keyword you want to search on tweets:\")\n",
    "\n",
    "    year = check_year()\n",
    "    \n",
    "    target_month = check_target_month(year)\n",
    "    \n",
    "    initial_day = check_initial_day(year, target_month)\n",
    "\n",
    "    #Note you can't choose the same day for both initial and final days\n",
    "\n",
    "    final_day = check_final_day(year, target_month)\n",
    "        \n",
    "    number_daily_tweets = int(input(\"Enter the number of tweets you want to catch per day:\"))\n",
    "\n",
    "    info_tuple = (name, year, target_month, initial_day, final_day, number_daily_tweets)\n",
    "    print(info_tuple)\n",
    "    return info_tuple"
   ]
  },
  {
   "cell_type": "markdown",
   "metadata": {
    "id": "vrEpBKqOPAAk"
   },
   "source": [
    "### Declaring lists of tweets items you need to scrape\n",
    "\n",
    "At this point, you must decide exactly which information you need from tweets for your future analysis"
   ]
  },
  {
   "cell_type": "code",
   "execution_count": 13,
   "metadata": {},
   "outputs": [],
   "source": [
    "#The first list gathers the tweet fields that will be considered in coding demonstration foward. \n",
    "#The second list includes all tweet items which snscrappe can scrape and return. So, you can create your own list \n",
    "#with the fields you need to scrape based on these information, or just deleting unnecessary fields below. \n",
    "\n",
    "\n",
    "default_str_list =  [\"date\", \"tweet_id\", \"tweet\", \"username\", \"replies_score\",\n",
    "                                             \"retweet_score\", \"likes_score\", \"quotes_score\"]\n",
    "\n",
    "\n",
    "all_fields_str_list = ['url', 'date', 'rawContent', 'renderedContent', 'id', 'content', 'user', 'replyCount', 'likeCount',\n",
    "                           'quoteCount', 'conversationId', 'lang', 'source', 'sourceUrl', 'sourceLabel', 'links', 'media', 'retweetedTweet',\n",
    "                               'quotedTweet', 'inReplyToTweetId', 'inReplyToUser', 'mentionedUsers', 'coordinates', 'place', 'hashtags',\n",
    "                                   'cashtags', 'card']\n"
   ]
  },
  {
   "cell_type": "markdown",
   "metadata": {},
   "source": [
    "After deciding the tweet items you want to scrape, you must create a commented list with the same item's name in the same sequence, but with the prefix \"tweet.\" added to all fields you wrote, as exemplified below. You will use this list within the TwitterSearchScrapper afterward, but keep them commented to avoid error on the next cell.\n",
    "\n",
    "**If you've chosen to proceed with the default list, you don't need to do anything.**"
   ]
  },
  {
   "cell_type": "code",
   "execution_count": 14,
   "metadata": {},
   "outputs": [],
   "source": [
    "#[tweet.date, tweet.id, tweet.content, tweet.user.username,\n",
    "#                                     tweet.replyCount, tweet.retweetCount, tweet.likeCount, tweet.quoteCount]\n",
    "\n",
    "#['tweet.url', 'tweet.date', 'tweet.rawContent', 'tweet.renderedContent', 'tweet.id', 'tweet.content', 'tweet.user', 'tweet.replyCount', 'tweet.likeCount',\n",
    "#                           'tweet.quoteCount', 'tweet.conversationId', 'tweet.lang', 'tweet.source', 'tweet.sourceUrl', 'tweet.sourceLabel', 'tweet.links', 'tweet.media',\n",
    "#                               'tweet.retweetedTweet', 'tweet.quotedTweet', 'tweet.inReplyToTweetId', 'tweet.inReplyToUser', 'tweet.mentionedUsers', 'tweet.coordinates', 'tweet.place', \n",
    "#                                   'tweet.hashtags','tweet.cashtags', 'tweet.card']"
   ]
  },
  {
   "cell_type": "markdown",
   "metadata": {},
   "source": [
    "### Building a function to catch tweets and store into a DataFrame\n",
    "\n",
    "PAY ATTENTION TO THE UPPER-CASE COMMENTS! 4 INSTRUCTIONS WILL GUIDE YOU TO COMPLETE YOUR PREFERENCES FOR THE TWITTER SEARCH SCRAPPER."
   ]
  },
  {
   "cell_type": "code",
   "execution_count": 15,
   "metadata": {
    "id": "6woR0wptPAAl"
   },
   "outputs": [],
   "source": [
    "def tweet_collector(name, year, target_month, initial_day, final_day, number_daily_tweets):\n",
    "\n",
    "    total_tweets = (final_day - initial_day + 1) * number_daily_tweets  \n",
    "                \n",
    "    # List to store tweets\n",
    "    tweets_list = []\n",
    "    \n",
    "    # Progress bar\n",
    "    progress_bar = tqdm(total = total_tweets)\n",
    "\n",
    "    # Transforming dates in objects datatype\n",
    "    \n",
    "    initial_date = datetime(year, target_month, initial_day, 0, 0, 0).isoformat()\n",
    "    final_date = final_date_solved(year, target_month, initial_day, final_day)\n",
    "    \n",
    "    # Counting\n",
    "    count = 0\n",
    "\n",
    "   # Loop\n",
    "\n",
    "#NOW IT'S TIME TO MAKE SOME CHOISES! \n",
    "    \n",
    "    while count != total_tweets:\n",
    "        for j in range(1):\n",
    "            \n",
    "#(1) ENGLISH WAS SET AS THE DEFAULT LANGUAGE. IF YOU NEED TO SEARCH IN ANOTHER LANGUAGE, CHANGE TwitterSearchScrapper PARAMETERS (lang: )\n",
    "#(2) RETWEETS ARE BEING FILTERED. IF YOU WANT TO COLLECT RETWEETS FOR YOUR DATA, JUST DELETE \"-filter:replies'\"\n",
    "\n",
    "            for i, tweet in enumerate(sntwitter.TwitterSearchScraper(f'{name} since:{initial_date} until:{final_date} lang:en -filter:replies').get_items()):\n",
    "                if i >= number_daily_tweets:\n",
    "                    final_date = (datetime.fromisoformat(final_date) - timedelta(days = 1)).isoformat()\n",
    "                    break\n",
    "                    \n",
    "#(3) YOU MUST OVERWRITE TWEETS_LIST PARAMETERS WITH YOUR OWN LIST OF TWEET FIELDS DECLARED BEFORE, IF YOU DECIDED DON'T USE DEFAULT_LIST. IN THIS CASE,\n",
    "#    COPY AND PASTE THE LIST YOU WROTE BEFORE WITH THE PREFIX \"tweet.\" ADDED, FOLLOWING PREVIOUS INSTRUCTIONS.\n",
    "\n",
    "                tweets_list.append([tweet.date, tweet.id, tweet.content, tweet.user.username,\n",
    "                                     tweet.replyCount, tweet.retweetCount, tweet.likeCount, tweet.quoteCount])\n",
    "                sleep(0.01)\n",
    "                count += 1\n",
    "                progress_bar.update(1)\n",
    "\n",
    "    progress_bar.close()\n",
    "\n",
    "    # Creating a DataFrame\n",
    "    \n",
    "#(4) YOU MUST OVERWRITE THE FIELDS COLUMNS WITH YOUR OWN LIST OF TWEET FIELDS YOU DECLARED BEFORE\n",
    "    df = pd.DataFrame(tweets_list, columns=default_str_list)\n",
    "    \n",
    "    # Storing as csv\n",
    "    df.to_csv(f'{name}_tweets_{target_month}.csv', encoding = 'utf-8', index = False)\n",
    "    \n",
    "    print(\"\\n Congratulations! All tweets were collected! \\n\\n\")"
   ]
  },
  {
   "cell_type": "markdown",
   "metadata": {},
   "source": [
    "# Now, it's up to you! You only need to run the cell below in order to collect your desired tweets! \n",
    "\n",
    "### Collecting your own tweets and saving as .csv"
   ]
  },
  {
   "cell_type": "code",
   "execution_count": null,
   "metadata": {},
   "outputs": [],
   "source": [
    "#ALL NUMBERS MUST BE INTEGERS!\n",
    "\n",
    "info_tuple = search_your_tweets()\n",
    "\n",
    "tweet_collector(info_tuple[0],info_tuple[1],info_tuple[2],info_tuple[3],info_tuple[4],info_tuple[5])\n",
    "\n",
    "#The document will be saved in your current folder, with the name of the keyword(s) you is(are) looking for + the month's number"
   ]
  },
  {
   "cell_type": "markdown",
   "metadata": {},
   "source": [
    "### Check your Data in a Pandas Dataframe"
   ]
  },
  {
   "cell_type": "code",
   "execution_count": null,
   "metadata": {},
   "outputs": [],
   "source": [
    "#Insert the document's name between the brackets\n",
    "\n",
    "my_tweets_df = pd.read_csv('trump_tweets_1.csv')\n",
    "my_tweets_df.head(10)"
   ]
  },
  {
   "cell_type": "markdown",
   "metadata": {},
   "source": [
    "### Further informations about your Data"
   ]
  },
  {
   "cell_type": "code",
   "execution_count": null,
   "metadata": {},
   "outputs": [],
   "source": [
    "my_tweets_df.info()"
   ]
  },
  {
   "cell_type": "markdown",
   "metadata": {
    "id": "OpgwjzPk7X6N"
   },
   "source": [
    "### Examples of running tweet_collector function"
   ]
  },
  {
   "cell_type": "markdown",
   "metadata": {},
   "source": [
    "**Let's take a look at what people are tweeting about the new iPhone 14 release in September 2022**"
   ]
  },
  {
   "cell_type": "code",
   "execution_count": 19,
   "metadata": {
    "colab": {
     "referenced_widgets": [
      "4a5a41382b124e77ab29db4200289c75",
      "d779be2ac2d44c0dbc2b7834b9a42a46"
     ]
    },
    "id": "PuDJEEM0PAAt",
    "outputId": "c86950f5-6f99-4d08-bb3b-2dfb0c3edd0a"
   },
   "outputs": [
    {
     "name": "stdin",
     "output_type": "stream",
     "text": [
      "Enter the name of any keyword you want to search on tweets: iPhone 14\n",
      "Enter the target year: 2022\n",
      "Enter the target month: 9\n",
      "Enter the first day you want to look for: 1\n",
      "Enter the last day you want to look for: 30\n",
      "Enter the number of tweets you want to catch per day: 5\n"
     ]
    },
    {
     "name": "stdout",
     "output_type": "stream",
     "text": [
      "('iPhone 14', 2022, 9, 1, 30, 5)\n"
     ]
    },
    {
     "data": {
      "application/vnd.jupyter.widget-view+json": {
       "model_id": "3d3539e5e0ef438ea619bb92359aaaaa",
       "version_major": 2,
       "version_minor": 0
      },
      "text/plain": [
       "  0%|          | 0/150 [00:00<?, ?it/s]"
      ]
     },
     "metadata": {},
     "output_type": "display_data"
    },
    {
     "name": "stdout",
     "output_type": "stream",
     "text": [
      "\n",
      " Congratulations! All tweets were collected! \n",
      "\n",
      "\n"
     ]
    }
   ],
   "source": [
    "info_tuple = search_your_tweets()\n",
    "\n",
    "tweet_collector(info_tuple[0],info_tuple[1],info_tuple[2],info_tuple[3],info_tuple[4],info_tuple[5])\n",
    "\n",
    "#Note you can't choose the same day for both initial and final days\n",
    "\n",
    "#If the Progress Bar stops you probably are in a infinite loop. There is many reasons why you would create an infinite loop. For instance,\n",
    "#whether don't exist enough tweets about the topic you are searching for in the period selected. Try to perform some tests to figure out \n",
    "#probably reasons why you have created an inifite loop."
   ]
  },
  {
   "cell_type": "markdown",
   "metadata": {},
   "source": [
    "**Let's take a look what people are tweeting about the new iPhone 14 release at September 2022**"
   ]
  },
  {
   "cell_type": "code",
   "execution_count": 20,
   "metadata": {},
   "outputs": [
    {
     "data": {
      "text/html": [
       "<div>\n",
       "<style scoped>\n",
       "    .dataframe tbody tr th:only-of-type {\n",
       "        vertical-align: middle;\n",
       "    }\n",
       "\n",
       "    .dataframe tbody tr th {\n",
       "        vertical-align: top;\n",
       "    }\n",
       "\n",
       "    .dataframe thead th {\n",
       "        text-align: right;\n",
       "    }\n",
       "</style>\n",
       "<table border=\"1\" class=\"dataframe\">\n",
       "  <thead>\n",
       "    <tr style=\"text-align: right;\">\n",
       "      <th></th>\n",
       "      <th>date</th>\n",
       "      <th>tweet_id</th>\n",
       "      <th>tweet</th>\n",
       "      <th>username</th>\n",
       "      <th>replies_score</th>\n",
       "      <th>retweet_score</th>\n",
       "      <th>likes_score</th>\n",
       "      <th>quotes_score</th>\n",
       "    </tr>\n",
       "  </thead>\n",
       "  <tbody>\n",
       "    <tr>\n",
       "      <th>0</th>\n",
       "      <td>2022-09-30 23:59:59+00:00</td>\n",
       "      <td>1575998928553537536</td>\n",
       "      <td>Nobody at all \\n\\niPhone 14 owners: I hate the...</td>\n",
       "      <td>jaybr1cks</td>\n",
       "      <td>0</td>\n",
       "      <td>0</td>\n",
       "      <td>1</td>\n",
       "      <td>0</td>\n",
       "    </tr>\n",
       "    <tr>\n",
       "      <th>1</th>\n",
       "      <td>2022-09-30 23:58:29+00:00</td>\n",
       "      <td>1575998550588067840</td>\n",
       "      <td>When a “financial planner” with solid healthca...</td>\n",
       "      <td>AsianAmProject</td>\n",
       "      <td>0</td>\n",
       "      <td>0</td>\n",
       "      <td>1</td>\n",
       "      <td>0</td>\n",
       "    </tr>\n",
       "    <tr>\n",
       "      <th>2</th>\n",
       "      <td>2022-09-30 23:57:53+00:00</td>\n",
       "      <td>1575998399416934400</td>\n",
       "      <td>Apple's new Chase video shows how iPhone 14 Pr...</td>\n",
       "      <td>Alan_Nishihara</td>\n",
       "      <td>0</td>\n",
       "      <td>0</td>\n",
       "      <td>0</td>\n",
       "      <td>0</td>\n",
       "    </tr>\n",
       "    <tr>\n",
       "      <th>3</th>\n",
       "      <td>2022-09-30 23:57:15+00:00</td>\n",
       "      <td>1575998239156760576</td>\n",
       "      <td>iPhone 14 now available ! Hurry in !! \\n137 St...</td>\n",
       "      <td>CricketPort</td>\n",
       "      <td>0</td>\n",
       "      <td>0</td>\n",
       "      <td>0</td>\n",
       "      <td>0</td>\n",
       "    </tr>\n",
       "    <tr>\n",
       "      <th>4</th>\n",
       "      <td>2022-09-30 23:57:13+00:00</td>\n",
       "      <td>1575998231502356482</td>\n",
       "      <td>Thinking about buying an iPhone 14 Pro Max, bu...</td>\n",
       "      <td>iShujaAhmedCh</td>\n",
       "      <td>0</td>\n",
       "      <td>0</td>\n",
       "      <td>0</td>\n",
       "      <td>0</td>\n",
       "    </tr>\n",
       "    <tr>\n",
       "      <th>5</th>\n",
       "      <td>2022-09-29 23:59:02+00:00</td>\n",
       "      <td>1575636301080133635</td>\n",
       "      <td>[Help] i was wondering if there was any tweaks...</td>\n",
       "      <td>redditJailbreak</td>\n",
       "      <td>0</td>\n",
       "      <td>0</td>\n",
       "      <td>0</td>\n",
       "      <td>0</td>\n",
       "    </tr>\n",
       "    <tr>\n",
       "      <th>6</th>\n",
       "      <td>2022-09-29 23:57:31+00:00</td>\n",
       "      <td>1575635916538155008</td>\n",
       "      <td>I need the iPhone 14</td>\n",
       "      <td>var3scobar</td>\n",
       "      <td>0</td>\n",
       "      <td>0</td>\n",
       "      <td>1</td>\n",
       "      <td>0</td>\n",
       "    </tr>\n",
       "    <tr>\n",
       "      <th>7</th>\n",
       "      <td>2022-09-29 23:55:16+00:00</td>\n",
       "      <td>1575635350701080578</td>\n",
       "      <td>Help save up to $800 on Apple iphone 14 on Bes...</td>\n",
       "      <td>stooryroomdotus</td>\n",
       "      <td>0</td>\n",
       "      <td>0</td>\n",
       "      <td>0</td>\n",
       "      <td>0</td>\n",
       "    </tr>\n",
       "    <tr>\n",
       "      <th>8</th>\n",
       "      <td>2022-09-29 23:55:09+00:00</td>\n",
       "      <td>1575635321605468162</td>\n",
       "      <td>The generals are always the last to fall.\\n\\n“...</td>\n",
       "      <td>saylor_go_brrr</td>\n",
       "      <td>1</td>\n",
       "      <td>0</td>\n",
       "      <td>6</td>\n",
       "      <td>0</td>\n",
       "    </tr>\n",
       "    <tr>\n",
       "      <th>9</th>\n",
       "      <td>2022-09-29 23:53:03+00:00</td>\n",
       "      <td>1575634795295813632</td>\n",
       "      <td>There’s absolutely no reason to worry about iP...</td>\n",
       "      <td>Droid_News</td>\n",
       "      <td>0</td>\n",
       "      <td>0</td>\n",
       "      <td>0</td>\n",
       "      <td>0</td>\n",
       "    </tr>\n",
       "    <tr>\n",
       "      <th>10</th>\n",
       "      <td>2022-09-28 23:58:33+00:00</td>\n",
       "      <td>1575273791441309696</td>\n",
       "      <td>Want to talk about a gigantic waste of resourc...</td>\n",
       "      <td>kost_allen</td>\n",
       "      <td>1</td>\n",
       "      <td>0</td>\n",
       "      <td>0</td>\n",
       "      <td>0</td>\n",
       "    </tr>\n",
       "    <tr>\n",
       "      <th>11</th>\n",
       "      <td>2022-09-28 23:56:57+00:00</td>\n",
       "      <td>1575273386493845505</td>\n",
       "      <td>Momax transparent MagSafe chargers are perfect...</td>\n",
       "      <td>KLmire</td>\n",
       "      <td>0</td>\n",
       "      <td>0</td>\n",
       "      <td>0</td>\n",
       "      <td>0</td>\n",
       "    </tr>\n",
       "    <tr>\n",
       "      <th>12</th>\n",
       "      <td>2022-09-28 23:55:14+00:00</td>\n",
       "      <td>1575272955977801728</td>\n",
       "      <td>hi friends i’m saving up to buy a new phone bu...</td>\n",
       "      <td>losubug</td>\n",
       "      <td>0</td>\n",
       "      <td>0</td>\n",
       "      <td>0</td>\n",
       "      <td>0</td>\n",
       "    </tr>\n",
       "    <tr>\n",
       "      <th>13</th>\n",
       "      <td>2022-09-28 23:54:18+00:00</td>\n",
       "      <td>1575272723000983555</td>\n",
       "      <td>In a recent podcast, there was a comment about...</td>\n",
       "      <td>rqc</td>\n",
       "      <td>2</td>\n",
       "      <td>0</td>\n",
       "      <td>0</td>\n",
       "      <td>0</td>\n",
       "    </tr>\n",
       "    <tr>\n",
       "      <th>14</th>\n",
       "      <td>2022-09-28 23:54:15+00:00</td>\n",
       "      <td>1575272708367163392</td>\n",
       "      <td>Will you be purchasing a new Apple iphone 14 i...</td>\n",
       "      <td>CtxMedical</td>\n",
       "      <td>0</td>\n",
       "      <td>0</td>\n",
       "      <td>0</td>\n",
       "      <td>0</td>\n",
       "    </tr>\n",
       "  </tbody>\n",
       "</table>\n",
       "</div>"
      ],
      "text/plain": [
       "                         date             tweet_id  \\\n",
       "0   2022-09-30 23:59:59+00:00  1575998928553537536   \n",
       "1   2022-09-30 23:58:29+00:00  1575998550588067840   \n",
       "2   2022-09-30 23:57:53+00:00  1575998399416934400   \n",
       "3   2022-09-30 23:57:15+00:00  1575998239156760576   \n",
       "4   2022-09-30 23:57:13+00:00  1575998231502356482   \n",
       "5   2022-09-29 23:59:02+00:00  1575636301080133635   \n",
       "6   2022-09-29 23:57:31+00:00  1575635916538155008   \n",
       "7   2022-09-29 23:55:16+00:00  1575635350701080578   \n",
       "8   2022-09-29 23:55:09+00:00  1575635321605468162   \n",
       "9   2022-09-29 23:53:03+00:00  1575634795295813632   \n",
       "10  2022-09-28 23:58:33+00:00  1575273791441309696   \n",
       "11  2022-09-28 23:56:57+00:00  1575273386493845505   \n",
       "12  2022-09-28 23:55:14+00:00  1575272955977801728   \n",
       "13  2022-09-28 23:54:18+00:00  1575272723000983555   \n",
       "14  2022-09-28 23:54:15+00:00  1575272708367163392   \n",
       "\n",
       "                                                tweet         username  \\\n",
       "0   Nobody at all \\n\\niPhone 14 owners: I hate the...        jaybr1cks   \n",
       "1   When a “financial planner” with solid healthca...   AsianAmProject   \n",
       "2   Apple's new Chase video shows how iPhone 14 Pr...   Alan_Nishihara   \n",
       "3   iPhone 14 now available ! Hurry in !! \\n137 St...      CricketPort   \n",
       "4   Thinking about buying an iPhone 14 Pro Max, bu...    iShujaAhmedCh   \n",
       "5   [Help] i was wondering if there was any tweaks...  redditJailbreak   \n",
       "6                                I need the iPhone 14       var3scobar   \n",
       "7   Help save up to $800 on Apple iphone 14 on Bes...  stooryroomdotus   \n",
       "8   The generals are always the last to fall.\\n\\n“...   saylor_go_brrr   \n",
       "9   There’s absolutely no reason to worry about iP...       Droid_News   \n",
       "10  Want to talk about a gigantic waste of resourc...       kost_allen   \n",
       "11  Momax transparent MagSafe chargers are perfect...           KLmire   \n",
       "12  hi friends i’m saving up to buy a new phone bu...          losubug   \n",
       "13  In a recent podcast, there was a comment about...              rqc   \n",
       "14  Will you be purchasing a new Apple iphone 14 i...       CtxMedical   \n",
       "\n",
       "    replies_score  retweet_score  likes_score  quotes_score  \n",
       "0               0              0            1             0  \n",
       "1               0              0            1             0  \n",
       "2               0              0            0             0  \n",
       "3               0              0            0             0  \n",
       "4               0              0            0             0  \n",
       "5               0              0            0             0  \n",
       "6               0              0            1             0  \n",
       "7               0              0            0             0  \n",
       "8               1              0            6             0  \n",
       "9               0              0            0             0  \n",
       "10              1              0            0             0  \n",
       "11              0              0            0             0  \n",
       "12              0              0            0             0  \n",
       "13              2              0            0             0  \n",
       "14              0              0            0             0  "
      ]
     },
     "execution_count": 20,
     "metadata": {},
     "output_type": "execute_result"
    }
   ],
   "source": [
    "my_tweets_df1 = pd.read_csv('iPhone 14_tweets_9.csv')\n",
    "my_tweets_df1.head(15)"
   ]
  },
  {
   "cell_type": "code",
   "execution_count": 21,
   "metadata": {},
   "outputs": [
    {
     "name": "stdout",
     "output_type": "stream",
     "text": [
      "<class 'pandas.core.frame.DataFrame'>\n",
      "RangeIndex: 150 entries, 0 to 149\n",
      "Data columns (total 8 columns):\n",
      " #   Column         Non-Null Count  Dtype \n",
      "---  ------         --------------  ----- \n",
      " 0   date           150 non-null    object\n",
      " 1   tweet_id       150 non-null    int64 \n",
      " 2   tweet          150 non-null    object\n",
      " 3   username       150 non-null    object\n",
      " 4   replies_score  150 non-null    int64 \n",
      " 5   retweet_score  150 non-null    int64 \n",
      " 6   likes_score    150 non-null    int64 \n",
      " 7   quotes_score   150 non-null    int64 \n",
      "dtypes: int64(5), object(3)\n",
      "memory usage: 9.5+ KB\n"
     ]
    }
   ],
   "source": [
    "my_tweets_df1.info()"
   ]
  },
  {
   "cell_type": "markdown",
   "metadata": {},
   "source": [
    "### Collecting data in multiples months and concatenating"
   ]
  },
  {
   "cell_type": "markdown",
   "metadata": {},
   "source": [
    " "
   ]
  },
  {
   "cell_type": "markdown",
   "metadata": {
    "id": "9W-PCLK58gaE"
   },
   "source": [
    "**What are people tweeting about Ukraine war during the last 3 months? (Considering today as 01/04/2023)**\n",
    "\n",
    "In this case of multiple months needed, we need to run the function multiple times and concatenate the DataFrames"
   ]
  },
  {
   "cell_type": "code",
   "execution_count": 22,
   "metadata": {
    "colab": {
     "base_uri": "https://localhost:8080/",
     "height": 103,
     "referenced_widgets": [
      "f3876b97e2eb440482f89aa6048fc1db",
      "5813d1520fe348d4988bf719c614583d",
      "27de3532b23a408985e87e86b67cd677",
      "8f2536c1c1754e08aae40733df109a32",
      "32e13252695240f1879f8218bfc75506",
      "8fe76c03c71f4955b78ba8fcc0af18ce",
      "5adc95d10d2c4801bcdc55fbb393bb67",
      "9270aef45cf141e7a3a49765b28539a4",
      "29e7d5da752841e2bae4b743413d0167",
      "7a7707d6babf4114aacf1c53c1808dda",
      "e3322688528746c08b5e63e4e6dfc1d2"
     ]
    },
    "executionInfo": {
     "elapsed": 1879231,
     "status": "ok",
     "timestamp": 1674919124762,
     "user": {
      "displayName": "Aline Salviano",
      "userId": "17132370323163133714"
     },
     "user_tz": 180
    },
    "id": "OyV-wFwzPAAw",
    "outputId": "04c01225-6962-4ea5-8dbf-ca642e6eb714"
   },
   "outputs": [
    {
     "name": "stdin",
     "output_type": "stream",
     "text": [
      "Enter the name of any keyword you want to search on tweets: Ukraine War\n",
      "Enter the target year: 2023\n",
      "Enter the target month: 1\n",
      "Enter the first day you want to look for: 1\n",
      "Enter the last day you want to look for: 31\n",
      "Enter the number of tweets you want to catch per day: 2\n"
     ]
    },
    {
     "name": "stdout",
     "output_type": "stream",
     "text": [
      "('Ukraine War', 2023, 1, 1, 31, 2)\n"
     ]
    },
    {
     "data": {
      "application/vnd.jupyter.widget-view+json": {
       "model_id": "93f0dd9418494b318d4ab176f37e2250",
       "version_major": 2,
       "version_minor": 0
      },
      "text/plain": [
       "  0%|          | 0/62 [00:00<?, ?it/s]"
      ]
     },
     "metadata": {},
     "output_type": "display_data"
    },
    {
     "name": "stdout",
     "output_type": "stream",
     "text": [
      "\n",
      " Congratulations! All tweets were collected! \n",
      "\n",
      "\n"
     ]
    }
   ],
   "source": [
    "#First month\n",
    "info_tuple = search_your_tweets()\n",
    "\n",
    "tweet_collector(info_tuple[0],info_tuple[1],info_tuple[2],info_tuple[3],info_tuple[4],info_tuple[5])"
   ]
  },
  {
   "cell_type": "code",
   "execution_count": 25,
   "metadata": {},
   "outputs": [
    {
     "name": "stdin",
     "output_type": "stream",
     "text": [
      "Enter the name of any keyword you want to search on tweets: Ukraine War\n",
      "Enter the target year: 2023\n",
      "Enter the target month: 2\n",
      "Enter the first day you want to look for: 1\n",
      "Enter the last day you want to look for: 28\n",
      "Enter the number of tweets you want to catch per day: 2\n"
     ]
    },
    {
     "name": "stdout",
     "output_type": "stream",
     "text": [
      "('Ukraine War', 2023, 2, 1, 28, 2)\n"
     ]
    },
    {
     "data": {
      "application/vnd.jupyter.widget-view+json": {
       "model_id": "cd1a2f4cec734502a599bc798492fb50",
       "version_major": 2,
       "version_minor": 0
      },
      "text/plain": [
       "  0%|          | 0/56 [00:00<?, ?it/s]"
      ]
     },
     "metadata": {},
     "output_type": "display_data"
    },
    {
     "name": "stdout",
     "output_type": "stream",
     "text": [
      "\n",
      " Congratulations! All tweets were collected! \n",
      "\n",
      "\n"
     ]
    }
   ],
   "source": [
    "#Second month\n",
    "info_tuple = search_your_tweets()\n",
    "\n",
    "tweet_collector(info_tuple[0],info_tuple[1],info_tuple[2],info_tuple[3],info_tuple[4],info_tuple[5])"
   ]
  },
  {
   "cell_type": "code",
   "execution_count": 32,
   "metadata": {},
   "outputs": [
    {
     "name": "stdin",
     "output_type": "stream",
     "text": [
      "Enter the name of any keyword you want to search on tweets: Ukraine War\n",
      "Enter the target year: 2023\n",
      "Enter the target month: 3\n",
      "Enter the first day you want to look for: 1\n",
      "Enter the last day you want to look for: 31\n",
      "Enter the number of tweets you want to catch per day: 2\n"
     ]
    },
    {
     "name": "stdout",
     "output_type": "stream",
     "text": [
      "('Ukraine War', 2023, 3, 1, 31, 2)\n"
     ]
    },
    {
     "data": {
      "application/vnd.jupyter.widget-view+json": {
       "model_id": "bda9484d08c4402aa02319c51c11f7d7",
       "version_major": 2,
       "version_minor": 0
      },
      "text/plain": [
       "  0%|          | 0/62 [00:00<?, ?it/s]"
      ]
     },
     "metadata": {},
     "output_type": "display_data"
    },
    {
     "name": "stdout",
     "output_type": "stream",
     "text": [
      "\n",
      " Congratulations! All tweets were collected! \n",
      "\n",
      "\n"
     ]
    }
   ],
   "source": [
    "#Third month\n",
    "info_tuple = search_your_tweets()\n",
    "\n",
    "tweet_collector(info_tuple[0],info_tuple[1],info_tuple[2],info_tuple[3],info_tuple[4],info_tuple[5])"
   ]
  },
  {
   "cell_type": "code",
   "execution_count": 33,
   "metadata": {},
   "outputs": [
    {
     "name": "stdout",
     "output_type": "stream",
     "text": [
      "<class 'pandas.core.frame.DataFrame'>\n",
      "Int64Index: 180 entries, 0 to 61\n",
      "Data columns (total 8 columns):\n",
      " #   Column         Non-Null Count  Dtype \n",
      "---  ------         --------------  ----- \n",
      " 0   date           180 non-null    object\n",
      " 1   tweet_id       180 non-null    int64 \n",
      " 2   tweet          180 non-null    object\n",
      " 3   username       180 non-null    object\n",
      " 4   replies_score  180 non-null    int64 \n",
      " 5   retweet_score  180 non-null    int64 \n",
      " 6   likes_score    180 non-null    int64 \n",
      " 7   quotes_score   180 non-null    int64 \n",
      "dtypes: int64(5), object(3)\n",
      "memory usage: 12.7+ KB\n"
     ]
    }
   ],
   "source": [
    "ukraine_df1 = pd.read_csv('Ukraine war_tweets_1.csv')\n",
    "ukraine_df2 = pd.read_csv('Ukraine war_tweets_2.csv')\n",
    "ukraine_df3 = pd.read_csv('Ukraine war_tweets_3.csv')\n",
    "\n",
    "df_merged = pd.concat([ukraine_df1, ukraine_df2, ukraine_df3])\n",
    "df_merged.info()"
   ]
  },
  {
   "cell_type": "code",
   "execution_count": 34,
   "metadata": {},
   "outputs": [
    {
     "data": {
      "text/html": [
       "<div>\n",
       "<style scoped>\n",
       "    .dataframe tbody tr th:only-of-type {\n",
       "        vertical-align: middle;\n",
       "    }\n",
       "\n",
       "    .dataframe tbody tr th {\n",
       "        vertical-align: top;\n",
       "    }\n",
       "\n",
       "    .dataframe thead th {\n",
       "        text-align: right;\n",
       "    }\n",
       "</style>\n",
       "<table border=\"1\" class=\"dataframe\">\n",
       "  <thead>\n",
       "    <tr style=\"text-align: right;\">\n",
       "      <th></th>\n",
       "      <th>date</th>\n",
       "      <th>tweet_id</th>\n",
       "      <th>tweet</th>\n",
       "      <th>username</th>\n",
       "      <th>replies_score</th>\n",
       "      <th>retweet_score</th>\n",
       "      <th>likes_score</th>\n",
       "      <th>quotes_score</th>\n",
       "    </tr>\n",
       "  </thead>\n",
       "  <tbody>\n",
       "    <tr>\n",
       "      <th>0</th>\n",
       "      <td>2023-01-31 23:59:38+00:00</td>\n",
       "      <td>1620572548470644737</td>\n",
       "      <td>RAND Corporation is a top notch US foreign pol...</td>\n",
       "      <td>Aliyujari</td>\n",
       "      <td>1</td>\n",
       "      <td>3</td>\n",
       "      <td>2</td>\n",
       "      <td>0</td>\n",
       "    </tr>\n",
       "    <tr>\n",
       "      <th>1</th>\n",
       "      <td>2023-01-31 23:58:47+00:00</td>\n",
       "      <td>1620572330836779008</td>\n",
       "      <td>#ExxonMobil made record profits thanks to #Ukr...</td>\n",
       "      <td>irichani</td>\n",
       "      <td>0</td>\n",
       "      <td>1</td>\n",
       "      <td>0</td>\n",
       "      <td>0</td>\n",
       "    </tr>\n",
       "    <tr>\n",
       "      <th>2</th>\n",
       "      <td>2023-01-30 23:59:58+00:00</td>\n",
       "      <td>1620210242360586240</td>\n",
       "      <td>Pepe Escobar: Ukraine War is Desperate Bid by ...</td>\n",
       "      <td>TraceMoneyFlow</td>\n",
       "      <td>0</td>\n",
       "      <td>0</td>\n",
       "      <td>1</td>\n",
       "      <td>0</td>\n",
       "    </tr>\n",
       "    <tr>\n",
       "      <th>3</th>\n",
       "      <td>2023-01-30 23:57:55+00:00</td>\n",
       "      <td>1620209726578626565</td>\n",
       "      <td>Wait, so there ARE biomass in Ukraine?\\nIf Zel...</td>\n",
       "      <td>Robsbad1</td>\n",
       "      <td>0</td>\n",
       "      <td>0</td>\n",
       "      <td>0</td>\n",
       "      <td>0</td>\n",
       "    </tr>\n",
       "    <tr>\n",
       "      <th>4</th>\n",
       "      <td>2023-01-29 23:59:27+00:00</td>\n",
       "      <td>1619847723947102210</td>\n",
       "      <td>Fashion tycoon Paul Smith fails to explain com...</td>\n",
       "      <td>NewsfeedsMedia</td>\n",
       "      <td>0</td>\n",
       "      <td>0</td>\n",
       "      <td>0</td>\n",
       "      <td>0</td>\n",
       "    </tr>\n",
       "  </tbody>\n",
       "</table>\n",
       "</div>"
      ],
      "text/plain": [
       "                        date             tweet_id  \\\n",
       "0  2023-01-31 23:59:38+00:00  1620572548470644737   \n",
       "1  2023-01-31 23:58:47+00:00  1620572330836779008   \n",
       "2  2023-01-30 23:59:58+00:00  1620210242360586240   \n",
       "3  2023-01-30 23:57:55+00:00  1620209726578626565   \n",
       "4  2023-01-29 23:59:27+00:00  1619847723947102210   \n",
       "\n",
       "                                               tweet        username  \\\n",
       "0  RAND Corporation is a top notch US foreign pol...       Aliyujari   \n",
       "1  #ExxonMobil made record profits thanks to #Ukr...        irichani   \n",
       "2  Pepe Escobar: Ukraine War is Desperate Bid by ...  TraceMoneyFlow   \n",
       "3  Wait, so there ARE biomass in Ukraine?\\nIf Zel...        Robsbad1   \n",
       "4  Fashion tycoon Paul Smith fails to explain com...  NewsfeedsMedia   \n",
       "\n",
       "   replies_score  retweet_score  likes_score  quotes_score  \n",
       "0              1              3            2             0  \n",
       "1              0              1            0             0  \n",
       "2              0              0            1             0  \n",
       "3              0              0            0             0  \n",
       "4              0              0            0             0  "
      ]
     },
     "execution_count": 34,
     "metadata": {},
     "output_type": "execute_result"
    }
   ],
   "source": [
    "df_merged.head(5)"
   ]
  },
  {
   "cell_type": "code",
   "execution_count": 35,
   "metadata": {},
   "outputs": [
    {
     "data": {
      "text/html": [
       "<div>\n",
       "<style scoped>\n",
       "    .dataframe tbody tr th:only-of-type {\n",
       "        vertical-align: middle;\n",
       "    }\n",
       "\n",
       "    .dataframe tbody tr th {\n",
       "        vertical-align: top;\n",
       "    }\n",
       "\n",
       "    .dataframe thead th {\n",
       "        text-align: right;\n",
       "    }\n",
       "</style>\n",
       "<table border=\"1\" class=\"dataframe\">\n",
       "  <thead>\n",
       "    <tr style=\"text-align: right;\">\n",
       "      <th></th>\n",
       "      <th>date</th>\n",
       "      <th>tweet_id</th>\n",
       "      <th>tweet</th>\n",
       "      <th>username</th>\n",
       "      <th>replies_score</th>\n",
       "      <th>retweet_score</th>\n",
       "      <th>likes_score</th>\n",
       "      <th>quotes_score</th>\n",
       "    </tr>\n",
       "  </thead>\n",
       "  <tbody>\n",
       "    <tr>\n",
       "      <th>57</th>\n",
       "      <td>2023-03-03 23:59:30+00:00</td>\n",
       "      <td>1631806535817986048</td>\n",
       "      <td>It is said ex POTUS Donald Trump is against Ru...</td>\n",
       "      <td>mam37ir</td>\n",
       "      <td>0</td>\n",
       "      <td>0</td>\n",
       "      <td>0</td>\n",
       "      <td>0</td>\n",
       "    </tr>\n",
       "    <tr>\n",
       "      <th>58</th>\n",
       "      <td>2023-03-02 23:59:17+00:00</td>\n",
       "      <td>1631444093401288704</td>\n",
       "      <td>17 Feb: Nice. Russian Generals BETRAYED WAGNER...</td>\n",
       "      <td>david_n919</td>\n",
       "      <td>0</td>\n",
       "      <td>0</td>\n",
       "      <td>0</td>\n",
       "      <td>0</td>\n",
       "    </tr>\n",
       "    <tr>\n",
       "      <th>59</th>\n",
       "      <td>2023-03-02 23:58:44+00:00</td>\n",
       "      <td>1631443957908664321</td>\n",
       "      <td>Putin: This is a Global Conflict - Scott Ritte...</td>\n",
       "      <td>BraddMaccameron</td>\n",
       "      <td>0</td>\n",
       "      <td>0</td>\n",
       "      <td>0</td>\n",
       "      <td>0</td>\n",
       "    </tr>\n",
       "    <tr>\n",
       "      <th>60</th>\n",
       "      <td>2023-03-01 23:59:58+00:00</td>\n",
       "      <td>1631081879863525376</td>\n",
       "      <td>Ukraine war: Images show devastated towns near...</td>\n",
       "      <td>theshot001</td>\n",
       "      <td>1</td>\n",
       "      <td>0</td>\n",
       "      <td>0</td>\n",
       "      <td>0</td>\n",
       "    </tr>\n",
       "    <tr>\n",
       "      <th>61</th>\n",
       "      <td>2023-03-01 23:58:48+00:00</td>\n",
       "      <td>1631081586568613888</td>\n",
       "      <td>MEP Clare Daly on Western hypocrisy on Russia-...</td>\n",
       "      <td>DevannyGraham</td>\n",
       "      <td>0</td>\n",
       "      <td>0</td>\n",
       "      <td>0</td>\n",
       "      <td>0</td>\n",
       "    </tr>\n",
       "  </tbody>\n",
       "</table>\n",
       "</div>"
      ],
      "text/plain": [
       "                         date             tweet_id  \\\n",
       "57  2023-03-03 23:59:30+00:00  1631806535817986048   \n",
       "58  2023-03-02 23:59:17+00:00  1631444093401288704   \n",
       "59  2023-03-02 23:58:44+00:00  1631443957908664321   \n",
       "60  2023-03-01 23:59:58+00:00  1631081879863525376   \n",
       "61  2023-03-01 23:58:48+00:00  1631081586568613888   \n",
       "\n",
       "                                                tweet         username  \\\n",
       "57  It is said ex POTUS Donald Trump is against Ru...          mam37ir   \n",
       "58  17 Feb: Nice. Russian Generals BETRAYED WAGNER...       david_n919   \n",
       "59  Putin: This is a Global Conflict - Scott Ritte...  BraddMaccameron   \n",
       "60  Ukraine war: Images show devastated towns near...       theshot001   \n",
       "61  MEP Clare Daly on Western hypocrisy on Russia-...    DevannyGraham   \n",
       "\n",
       "    replies_score  retweet_score  likes_score  quotes_score  \n",
       "57              0              0            0             0  \n",
       "58              0              0            0             0  \n",
       "59              0              0            0             0  \n",
       "60              1              0            0             0  \n",
       "61              0              0            0             0  "
      ]
     },
     "execution_count": 35,
     "metadata": {},
     "output_type": "execute_result"
    }
   ],
   "source": [
    "df_merged.tail(5)"
   ]
  },
  {
   "cell_type": "markdown",
   "metadata": {},
   "source": [
    "  "
   ]
  },
  {
   "cell_type": "markdown",
   "metadata": {},
   "source": [
    " "
   ]
  },
  {
   "cell_type": "markdown",
   "metadata": {},
   "source": [
    "## Thank you for reaching the end of my script! I hope I could helped you with your task! If my algorithm was useful for you, or if you want to make suggestions or reviews, please follow me and write me about it through my social media =) \n",
    "\n",
    "# LET'S SHARE AND OPEN-SOURCE IT!"
   ]
  },
  {
   "cell_type": "markdown",
   "metadata": {},
   "source": [
    "#### GitHub: https://github.com/neural-insights\n",
    "\n",
    "#### LinkedIn: https://www.linkedin.com/in/lucas-barone-peres/\n",
    "\n",
    "#### Medium: https://medium.com/@lucas.barone.peres\n",
    "\n",
    "#### e-mail: lucas.barone.peres@gmail.com"
   ]
  }
 ],
 "metadata": {
  "celltoolbar": "Raw Cell Format",
  "colab": {
   "provenance": []
  },
  "kernelspec": {
   "display_name": "Python 3 (ipykernel)",
   "language": "python",
   "name": "python3"
  },
  "language_info": {
   "codemirror_mode": {
    "name": "ipython",
    "version": 3
   },
   "file_extension": ".py",
   "mimetype": "text/x-python",
   "name": "python",
   "nbconvert_exporter": "python",
   "pygments_lexer": "ipython3",
   "version": "3.9.13"
  },
  "widgets": {
   "application/vnd.jupyter.widget-state+json": {
    "030a079ef82c4ef3b3ce1f7634e5279e": {
     "model_module": "@jupyter-widgets/base",
     "model_module_version": "1.2.0",
     "model_name": "LayoutModel",
     "state": {
      "_model_module": "@jupyter-widgets/base",
      "_model_module_version": "1.2.0",
      "_model_name": "LayoutModel",
      "_view_count": null,
      "_view_module": "@jupyter-widgets/base",
      "_view_module_version": "1.2.0",
      "_view_name": "LayoutView",
      "align_content": null,
      "align_items": null,
      "align_self": null,
      "border": null,
      "bottom": null,
      "display": null,
      "flex": null,
      "flex_flow": null,
      "grid_area": null,
      "grid_auto_columns": null,
      "grid_auto_flow": null,
      "grid_auto_rows": null,
      "grid_column": null,
      "grid_gap": null,
      "grid_row": null,
      "grid_template_areas": null,
      "grid_template_columns": null,
      "grid_template_rows": null,
      "height": null,
      "justify_content": null,
      "justify_items": null,
      "left": null,
      "margin": null,
      "max_height": null,
      "max_width": null,
      "min_height": null,
      "min_width": null,
      "object_fit": null,
      "object_position": null,
      "order": null,
      "overflow": null,
      "overflow_x": null,
      "overflow_y": null,
      "padding": null,
      "right": null,
      "top": null,
      "visibility": null,
      "width": null
     }
    },
    "17699d85d5ca412e8692d61d83870f37": {
     "model_module": "@jupyter-widgets/controls",
     "model_module_version": "1.5.0",
     "model_name": "HTMLModel",
     "state": {
      "_dom_classes": [],
      "_model_module": "@jupyter-widgets/controls",
      "_model_module_version": "1.5.0",
      "_model_name": "HTMLModel",
      "_view_count": null,
      "_view_module": "@jupyter-widgets/controls",
      "_view_module_version": "1.5.0",
      "_view_name": "HTMLView",
      "description": "",
      "description_tooltip": null,
      "layout": "IPY_MODEL_d3a27088228a4c0bbe88b1ce380fc33a",
      "placeholder": "​",
      "style": "IPY_MODEL_e38305619c7247bbb19e84eafd370948",
      "value": " 60000/60000 [55:11&lt;00:00, 16.19it/s]"
     }
    },
    "2125e6fd5e2f4bc28b2756349ec27de6": {
     "model_module": "@jupyter-widgets/controls",
     "model_module_version": "1.5.0",
     "model_name": "FloatProgressModel",
     "state": {
      "_dom_classes": [],
      "_model_module": "@jupyter-widgets/controls",
      "_model_module_version": "1.5.0",
      "_model_name": "FloatProgressModel",
      "_view_count": null,
      "_view_module": "@jupyter-widgets/controls",
      "_view_module_version": "1.5.0",
      "_view_name": "ProgressView",
      "bar_style": "success",
      "description": "",
      "description_tooltip": null,
      "layout": "IPY_MODEL_e70ddcbae3ff47d1b95879918b94b887",
      "max": 60000,
      "min": 0,
      "orientation": "horizontal",
      "style": "IPY_MODEL_ccc6567677bb4720923171c67385cb68",
      "value": 60000
     }
    },
    "25da860f228d4cbf8b0ac850c0b557be": {
     "model_module": "@jupyter-widgets/controls",
     "model_module_version": "1.5.0",
     "model_name": "HBoxModel",
     "state": {
      "_dom_classes": [],
      "_model_module": "@jupyter-widgets/controls",
      "_model_module_version": "1.5.0",
      "_model_name": "HBoxModel",
      "_view_count": null,
      "_view_module": "@jupyter-widgets/controls",
      "_view_module_version": "1.5.0",
      "_view_name": "HBoxView",
      "box_style": "",
      "children": [
       "IPY_MODEL_ff733addf453438e948eb9cac4dadb2c",
       "IPY_MODEL_2125e6fd5e2f4bc28b2756349ec27de6",
       "IPY_MODEL_17699d85d5ca412e8692d61d83870f37"
      ],
      "layout": "IPY_MODEL_734af67f45264d308b0fd4ce2db44784"
     }
    },
    "27de3532b23a408985e87e86b67cd677": {
     "model_module": "@jupyter-widgets/controls",
     "model_module_version": "1.5.0",
     "model_name": "FloatProgressModel",
     "state": {
      "_dom_classes": [],
      "_model_module": "@jupyter-widgets/controls",
      "_model_module_version": "1.5.0",
      "_model_name": "FloatProgressModel",
      "_view_count": null,
      "_view_module": "@jupyter-widgets/controls",
      "_view_module_version": "1.5.0",
      "_view_name": "ProgressView",
      "bar_style": "success",
      "description": "",
      "description_tooltip": null,
      "layout": "IPY_MODEL_9270aef45cf141e7a3a49765b28539a4",
      "max": 60000,
      "min": 0,
      "orientation": "horizontal",
      "style": "IPY_MODEL_29e7d5da752841e2bae4b743413d0167",
      "value": 60000
     }
    },
    "28d3aa0fe7c04eaab2d4311b4fd7f23a": {
     "model_module": "@jupyter-widgets/controls",
     "model_module_version": "1.5.0",
     "model_name": "DescriptionStyleModel",
     "state": {
      "_model_module": "@jupyter-widgets/controls",
      "_model_module_version": "1.5.0",
      "_model_name": "DescriptionStyleModel",
      "_view_count": null,
      "_view_module": "@jupyter-widgets/base",
      "_view_module_version": "1.2.0",
      "_view_name": "StyleView",
      "description_width": ""
     }
    },
    "29e7d5da752841e2bae4b743413d0167": {
     "model_module": "@jupyter-widgets/controls",
     "model_module_version": "1.5.0",
     "model_name": "ProgressStyleModel",
     "state": {
      "_model_module": "@jupyter-widgets/controls",
      "_model_module_version": "1.5.0",
      "_model_name": "ProgressStyleModel",
      "_view_count": null,
      "_view_module": "@jupyter-widgets/base",
      "_view_module_version": "1.2.0",
      "_view_name": "StyleView",
      "bar_color": null,
      "description_width": ""
     }
    },
    "32e13252695240f1879f8218bfc75506": {
     "model_module": "@jupyter-widgets/base",
     "model_module_version": "1.2.0",
     "model_name": "LayoutModel",
     "state": {
      "_model_module": "@jupyter-widgets/base",
      "_model_module_version": "1.2.0",
      "_model_name": "LayoutModel",
      "_view_count": null,
      "_view_module": "@jupyter-widgets/base",
      "_view_module_version": "1.2.0",
      "_view_name": "LayoutView",
      "align_content": null,
      "align_items": null,
      "align_self": null,
      "border": null,
      "bottom": null,
      "display": null,
      "flex": null,
      "flex_flow": null,
      "grid_area": null,
      "grid_auto_columns": null,
      "grid_auto_flow": null,
      "grid_auto_rows": null,
      "grid_column": null,
      "grid_gap": null,
      "grid_row": null,
      "grid_template_areas": null,
      "grid_template_columns": null,
      "grid_template_rows": null,
      "height": null,
      "justify_content": null,
      "justify_items": null,
      "left": null,
      "margin": null,
      "max_height": null,
      "max_width": null,
      "min_height": null,
      "min_width": null,
      "object_fit": null,
      "object_position": null,
      "order": null,
      "overflow": null,
      "overflow_x": null,
      "overflow_y": null,
      "padding": null,
      "right": null,
      "top": null,
      "visibility": null,
      "width": null
     }
    },
    "5813d1520fe348d4988bf719c614583d": {
     "model_module": "@jupyter-widgets/controls",
     "model_module_version": "1.5.0",
     "model_name": "HTMLModel",
     "state": {
      "_dom_classes": [],
      "_model_module": "@jupyter-widgets/controls",
      "_model_module_version": "1.5.0",
      "_model_name": "HTMLModel",
      "_view_count": null,
      "_view_module": "@jupyter-widgets/controls",
      "_view_module_version": "1.5.0",
      "_view_name": "HTMLView",
      "description": "",
      "description_tooltip": null,
      "layout": "IPY_MODEL_8fe76c03c71f4955b78ba8fcc0af18ce",
      "placeholder": "​",
      "style": "IPY_MODEL_5adc95d10d2c4801bcdc55fbb393bb67",
      "value": "100%"
     }
    },
    "5adc95d10d2c4801bcdc55fbb393bb67": {
     "model_module": "@jupyter-widgets/controls",
     "model_module_version": "1.5.0",
     "model_name": "DescriptionStyleModel",
     "state": {
      "_model_module": "@jupyter-widgets/controls",
      "_model_module_version": "1.5.0",
      "_model_name": "DescriptionStyleModel",
      "_view_count": null,
      "_view_module": "@jupyter-widgets/base",
      "_view_module_version": "1.2.0",
      "_view_name": "StyleView",
      "description_width": ""
     }
    },
    "734af67f45264d308b0fd4ce2db44784": {
     "model_module": "@jupyter-widgets/base",
     "model_module_version": "1.2.0",
     "model_name": "LayoutModel",
     "state": {
      "_model_module": "@jupyter-widgets/base",
      "_model_module_version": "1.2.0",
      "_model_name": "LayoutModel",
      "_view_count": null,
      "_view_module": "@jupyter-widgets/base",
      "_view_module_version": "1.2.0",
      "_view_name": "LayoutView",
      "align_content": null,
      "align_items": null,
      "align_self": null,
      "border": null,
      "bottom": null,
      "display": null,
      "flex": null,
      "flex_flow": null,
      "grid_area": null,
      "grid_auto_columns": null,
      "grid_auto_flow": null,
      "grid_auto_rows": null,
      "grid_column": null,
      "grid_gap": null,
      "grid_row": null,
      "grid_template_areas": null,
      "grid_template_columns": null,
      "grid_template_rows": null,
      "height": null,
      "justify_content": null,
      "justify_items": null,
      "left": null,
      "margin": null,
      "max_height": null,
      "max_width": null,
      "min_height": null,
      "min_width": null,
      "object_fit": null,
      "object_position": null,
      "order": null,
      "overflow": null,
      "overflow_x": null,
      "overflow_y": null,
      "padding": null,
      "right": null,
      "top": null,
      "visibility": null,
      "width": null
     }
    },
    "7a7707d6babf4114aacf1c53c1808dda": {
     "model_module": "@jupyter-widgets/base",
     "model_module_version": "1.2.0",
     "model_name": "LayoutModel",
     "state": {
      "_model_module": "@jupyter-widgets/base",
      "_model_module_version": "1.2.0",
      "_model_name": "LayoutModel",
      "_view_count": null,
      "_view_module": "@jupyter-widgets/base",
      "_view_module_version": "1.2.0",
      "_view_name": "LayoutView",
      "align_content": null,
      "align_items": null,
      "align_self": null,
      "border": null,
      "bottom": null,
      "display": null,
      "flex": null,
      "flex_flow": null,
      "grid_area": null,
      "grid_auto_columns": null,
      "grid_auto_flow": null,
      "grid_auto_rows": null,
      "grid_column": null,
      "grid_gap": null,
      "grid_row": null,
      "grid_template_areas": null,
      "grid_template_columns": null,
      "grid_template_rows": null,
      "height": null,
      "justify_content": null,
      "justify_items": null,
      "left": null,
      "margin": null,
      "max_height": null,
      "max_width": null,
      "min_height": null,
      "min_width": null,
      "object_fit": null,
      "object_position": null,
      "order": null,
      "overflow": null,
      "overflow_x": null,
      "overflow_y": null,
      "padding": null,
      "right": null,
      "top": null,
      "visibility": null,
      "width": null
     }
    },
    "8f2536c1c1754e08aae40733df109a32": {
     "model_module": "@jupyter-widgets/controls",
     "model_module_version": "1.5.0",
     "model_name": "HTMLModel",
     "state": {
      "_dom_classes": [],
      "_model_module": "@jupyter-widgets/controls",
      "_model_module_version": "1.5.0",
      "_model_name": "HTMLModel",
      "_view_count": null,
      "_view_module": "@jupyter-widgets/controls",
      "_view_module_version": "1.5.0",
      "_view_name": "HTMLView",
      "description": "",
      "description_tooltip": null,
      "layout": "IPY_MODEL_7a7707d6babf4114aacf1c53c1808dda",
      "placeholder": "​",
      "style": "IPY_MODEL_e3322688528746c08b5e63e4e6dfc1d2",
      "value": " 60000/60000 [55:00&lt;00:00, 17.07it/s]"
     }
    },
    "8fe76c03c71f4955b78ba8fcc0af18ce": {
     "model_module": "@jupyter-widgets/base",
     "model_module_version": "1.2.0",
     "model_name": "LayoutModel",
     "state": {
      "_model_module": "@jupyter-widgets/base",
      "_model_module_version": "1.2.0",
      "_model_name": "LayoutModel",
      "_view_count": null,
      "_view_module": "@jupyter-widgets/base",
      "_view_module_version": "1.2.0",
      "_view_name": "LayoutView",
      "align_content": null,
      "align_items": null,
      "align_self": null,
      "border": null,
      "bottom": null,
      "display": null,
      "flex": null,
      "flex_flow": null,
      "grid_area": null,
      "grid_auto_columns": null,
      "grid_auto_flow": null,
      "grid_auto_rows": null,
      "grid_column": null,
      "grid_gap": null,
      "grid_row": null,
      "grid_template_areas": null,
      "grid_template_columns": null,
      "grid_template_rows": null,
      "height": null,
      "justify_content": null,
      "justify_items": null,
      "left": null,
      "margin": null,
      "max_height": null,
      "max_width": null,
      "min_height": null,
      "min_width": null,
      "object_fit": null,
      "object_position": null,
      "order": null,
      "overflow": null,
      "overflow_x": null,
      "overflow_y": null,
      "padding": null,
      "right": null,
      "top": null,
      "visibility": null,
      "width": null
     }
    },
    "9270aef45cf141e7a3a49765b28539a4": {
     "model_module": "@jupyter-widgets/base",
     "model_module_version": "1.2.0",
     "model_name": "LayoutModel",
     "state": {
      "_model_module": "@jupyter-widgets/base",
      "_model_module_version": "1.2.0",
      "_model_name": "LayoutModel",
      "_view_count": null,
      "_view_module": "@jupyter-widgets/base",
      "_view_module_version": "1.2.0",
      "_view_name": "LayoutView",
      "align_content": null,
      "align_items": null,
      "align_self": null,
      "border": null,
      "bottom": null,
      "display": null,
      "flex": null,
      "flex_flow": null,
      "grid_area": null,
      "grid_auto_columns": null,
      "grid_auto_flow": null,
      "grid_auto_rows": null,
      "grid_column": null,
      "grid_gap": null,
      "grid_row": null,
      "grid_template_areas": null,
      "grid_template_columns": null,
      "grid_template_rows": null,
      "height": null,
      "justify_content": null,
      "justify_items": null,
      "left": null,
      "margin": null,
      "max_height": null,
      "max_width": null,
      "min_height": null,
      "min_width": null,
      "object_fit": null,
      "object_position": null,
      "order": null,
      "overflow": null,
      "overflow_x": null,
      "overflow_y": null,
      "padding": null,
      "right": null,
      "top": null,
      "visibility": null,
      "width": null
     }
    },
    "ccc6567677bb4720923171c67385cb68": {
     "model_module": "@jupyter-widgets/controls",
     "model_module_version": "1.5.0",
     "model_name": "ProgressStyleModel",
     "state": {
      "_model_module": "@jupyter-widgets/controls",
      "_model_module_version": "1.5.0",
      "_model_name": "ProgressStyleModel",
      "_view_count": null,
      "_view_module": "@jupyter-widgets/base",
      "_view_module_version": "1.2.0",
      "_view_name": "StyleView",
      "bar_color": null,
      "description_width": ""
     }
    },
    "d3a27088228a4c0bbe88b1ce380fc33a": {
     "model_module": "@jupyter-widgets/base",
     "model_module_version": "1.2.0",
     "model_name": "LayoutModel",
     "state": {
      "_model_module": "@jupyter-widgets/base",
      "_model_module_version": "1.2.0",
      "_model_name": "LayoutModel",
      "_view_count": null,
      "_view_module": "@jupyter-widgets/base",
      "_view_module_version": "1.2.0",
      "_view_name": "LayoutView",
      "align_content": null,
      "align_items": null,
      "align_self": null,
      "border": null,
      "bottom": null,
      "display": null,
      "flex": null,
      "flex_flow": null,
      "grid_area": null,
      "grid_auto_columns": null,
      "grid_auto_flow": null,
      "grid_auto_rows": null,
      "grid_column": null,
      "grid_gap": null,
      "grid_row": null,
      "grid_template_areas": null,
      "grid_template_columns": null,
      "grid_template_rows": null,
      "height": null,
      "justify_content": null,
      "justify_items": null,
      "left": null,
      "margin": null,
      "max_height": null,
      "max_width": null,
      "min_height": null,
      "min_width": null,
      "object_fit": null,
      "object_position": null,
      "order": null,
      "overflow": null,
      "overflow_x": null,
      "overflow_y": null,
      "padding": null,
      "right": null,
      "top": null,
      "visibility": null,
      "width": null
     }
    },
    "e3322688528746c08b5e63e4e6dfc1d2": {
     "model_module": "@jupyter-widgets/controls",
     "model_module_version": "1.5.0",
     "model_name": "DescriptionStyleModel",
     "state": {
      "_model_module": "@jupyter-widgets/controls",
      "_model_module_version": "1.5.0",
      "_model_name": "DescriptionStyleModel",
      "_view_count": null,
      "_view_module": "@jupyter-widgets/base",
      "_view_module_version": "1.2.0",
      "_view_name": "StyleView",
      "description_width": ""
     }
    },
    "e38305619c7247bbb19e84eafd370948": {
     "model_module": "@jupyter-widgets/controls",
     "model_module_version": "1.5.0",
     "model_name": "DescriptionStyleModel",
     "state": {
      "_model_module": "@jupyter-widgets/controls",
      "_model_module_version": "1.5.0",
      "_model_name": "DescriptionStyleModel",
      "_view_count": null,
      "_view_module": "@jupyter-widgets/base",
      "_view_module_version": "1.2.0",
      "_view_name": "StyleView",
      "description_width": ""
     }
    },
    "e70ddcbae3ff47d1b95879918b94b887": {
     "model_module": "@jupyter-widgets/base",
     "model_module_version": "1.2.0",
     "model_name": "LayoutModel",
     "state": {
      "_model_module": "@jupyter-widgets/base",
      "_model_module_version": "1.2.0",
      "_model_name": "LayoutModel",
      "_view_count": null,
      "_view_module": "@jupyter-widgets/base",
      "_view_module_version": "1.2.0",
      "_view_name": "LayoutView",
      "align_content": null,
      "align_items": null,
      "align_self": null,
      "border": null,
      "bottom": null,
      "display": null,
      "flex": null,
      "flex_flow": null,
      "grid_area": null,
      "grid_auto_columns": null,
      "grid_auto_flow": null,
      "grid_auto_rows": null,
      "grid_column": null,
      "grid_gap": null,
      "grid_row": null,
      "grid_template_areas": null,
      "grid_template_columns": null,
      "grid_template_rows": null,
      "height": null,
      "justify_content": null,
      "justify_items": null,
      "left": null,
      "margin": null,
      "max_height": null,
      "max_width": null,
      "min_height": null,
      "min_width": null,
      "object_fit": null,
      "object_position": null,
      "order": null,
      "overflow": null,
      "overflow_x": null,
      "overflow_y": null,
      "padding": null,
      "right": null,
      "top": null,
      "visibility": null,
      "width": null
     }
    },
    "f3876b97e2eb440482f89aa6048fc1db": {
     "model_module": "@jupyter-widgets/controls",
     "model_module_version": "1.5.0",
     "model_name": "HBoxModel",
     "state": {
      "_dom_classes": [],
      "_model_module": "@jupyter-widgets/controls",
      "_model_module_version": "1.5.0",
      "_model_name": "HBoxModel",
      "_view_count": null,
      "_view_module": "@jupyter-widgets/controls",
      "_view_module_version": "1.5.0",
      "_view_name": "HBoxView",
      "box_style": "",
      "children": [
       "IPY_MODEL_5813d1520fe348d4988bf719c614583d",
       "IPY_MODEL_27de3532b23a408985e87e86b67cd677",
       "IPY_MODEL_8f2536c1c1754e08aae40733df109a32"
      ],
      "layout": "IPY_MODEL_32e13252695240f1879f8218bfc75506"
     }
    },
    "ff733addf453438e948eb9cac4dadb2c": {
     "model_module": "@jupyter-widgets/controls",
     "model_module_version": "1.5.0",
     "model_name": "HTMLModel",
     "state": {
      "_dom_classes": [],
      "_model_module": "@jupyter-widgets/controls",
      "_model_module_version": "1.5.0",
      "_model_name": "HTMLModel",
      "_view_count": null,
      "_view_module": "@jupyter-widgets/controls",
      "_view_module_version": "1.5.0",
      "_view_name": "HTMLView",
      "description": "",
      "description_tooltip": null,
      "layout": "IPY_MODEL_030a079ef82c4ef3b3ce1f7634e5279e",
      "placeholder": "​",
      "style": "IPY_MODEL_28d3aa0fe7c04eaab2d4311b4fd7f23a",
      "value": "100%"
     }
    }
   }
  }
 },
 "nbformat": 4,
 "nbformat_minor": 4
}
